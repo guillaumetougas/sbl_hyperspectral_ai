{
  "nbformat": 4,
  "nbformat_minor": 0,
  "metadata": {
    "colab": {
      "provenance": [],
      "machine_shape": "hm",
      "gpuType": "A100",
      "mount_file_id": "https://github.com/guillaumetougas/sbl_hyperspectral_ai/blob/main/02_scripts/sbl_hyperspec_1D_CNN.ipynb",
      "authorship_tag": "ABX9TyOUOtSGgWkdAt5bpdjANM/h",
      "include_colab_link": true
    },
    "kernelspec": {
      "name": "python3",
      "display_name": "Python 3"
    },
    "language_info": {
      "name": "python"
    },
    "accelerator": "GPU"
  },
  "cells": [
    {
      "cell_type": "markdown",
      "metadata": {
        "id": "view-in-github",
        "colab_type": "text"
      },
      "source": [
        "<a href=\"https://colab.research.google.com/github/guillaumetougas/sbl_hyperspectral_ai/blob/main/02_scripts/sbl_hyperspec_1D_CNN.ipynb\" target=\"_parent\"><img src=\"https://colab.research.google.com/assets/colab-badge.svg\" alt=\"Open In Colab\"/></a>"
      ]
    },
    {
      "cell_type": "markdown",
      "source": [
        "#1D-CNN model from hyperspectral data\n"
      ],
      "metadata": {
        "id": "853dmOxfikrm"
      }
    },
    {
      "cell_type": "code",
      "source": [
        "import geopandas as gpd\n",
        "import pandas as pd\n",
        "import numpy as np\n",
        "import matplotlib.pyplot as plt\n",
        "import sklearn as sk\n",
        "import torch\n",
        "import torchvision as tv\n",
        "from torchvision.models.detection import fasterrcnn_resnet50_fpn\n",
        "from torchvision.models.detection.faster_rcnn import FastRCNNPredictor\n",
        "import torchaudio as ta\n",
        "!pip install rasterio\n",
        "import rasterio as rio"
      ],
      "metadata": {
        "colab": {
          "base_uri": "https://localhost:8080/"
        },
        "id": "dOvK6peqgfcw",
        "outputId": "f65e3527-2839-4f22-af4e-8575e830c54f"
      },
      "execution_count": 29,
      "outputs": [
        {
          "output_type": "stream",
          "name": "stdout",
          "text": [
            "Requirement already satisfied: rasterio in /usr/local/lib/python3.10/dist-packages (1.4.3)\n",
            "Requirement already satisfied: affine in /usr/local/lib/python3.10/dist-packages (from rasterio) (2.4.0)\n",
            "Requirement already satisfied: attrs in /usr/local/lib/python3.10/dist-packages (from rasterio) (24.2.0)\n",
            "Requirement already satisfied: certifi in /usr/local/lib/python3.10/dist-packages (from rasterio) (2024.8.30)\n",
            "Requirement already satisfied: click>=4.0 in /usr/local/lib/python3.10/dist-packages (from rasterio) (8.1.7)\n",
            "Requirement already satisfied: cligj>=0.5 in /usr/local/lib/python3.10/dist-packages (from rasterio) (0.7.2)\n",
            "Requirement already satisfied: numpy>=1.24 in /usr/local/lib/python3.10/dist-packages (from rasterio) (1.26.4)\n",
            "Requirement already satisfied: click-plugins in /usr/local/lib/python3.10/dist-packages (from rasterio) (1.1.1)\n",
            "Requirement already satisfied: pyparsing in /usr/local/lib/python3.10/dist-packages (from rasterio) (3.2.0)\n"
          ]
        }
      ]
    },
    {
      "cell_type": "markdown",
      "source": [
        "###Load preprocessed HS data"
      ],
      "metadata": {
        "id": "I1CEjIvoiwOJ"
      }
    },
    {
      "cell_type": "code",
      "source": [
        "#from google.colab import drive\n",
        "#drive.mount('/content/drive')"
      ],
      "metadata": {
        "id": "munG550aGaOv",
        "outputId": "fbedb2a9-bc72-4c6f-93da-59c65e12def1",
        "colab": {
          "base_uri": "https://localhost:8080/"
        }
      },
      "execution_count": 30,
      "outputs": [
        {
          "output_type": "stream",
          "name": "stdout",
          "text": [
            "Drive already mounted at /content/drive; to attempt to forcibly remount, call drive.mount(\"/content/drive\", force_remount=True).\n"
          ]
        }
      ]
    },
    {
      "cell_type": "code",
      "source": [
        "import random\n",
        "# Set seeds for reproducibility\n",
        "random.seed(42)\n",
        "np.random.seed(42)\n",
        "torch.manual_seed(42)\n",
        "torch.cuda.manual_seed(42)\n",
        "torch.cuda.manual_seed_all(42)\n",
        "torch.backends.cudnn.deterministic = True\n",
        "torch.backends.cudnn.benchmark = False"
      ],
      "metadata": {
        "id": "6TD51vbRmdXC"
      },
      "execution_count": 45,
      "outputs": []
    },
    {
      "cell_type": "code",
      "execution_count": 46,
      "metadata": {
        "colab": {
          "base_uri": "https://localhost:8080/"
        },
        "id": "KR7BZn-XgVqy",
        "outputId": "c0ca7922-f14b-4a32-cb05-aa50e76e5a1d"
      },
      "outputs": [
        {
          "output_type": "stream",
          "name": "stdout",
          "text": [
            "[0.06830659106593368 0.05044518727648489 0.0711628405797041 ...\n",
            " 0.0002695426312816876 0.0002724091850176913 0.0]\n"
          ]
        }
      ],
      "source": [
        "#Load HS data with geopandas\n",
        "smoothed_data=gpd.read_file(\"/content/drive/MyDrive/2024-Tougas-PhD/Data_SBL_HS_AI/sbl_smoothed_spectra.gpkg\")\n",
        "\n",
        "#isolate spectral data and prepare with rasterio\n",
        "spectral_data_labeled = smoothed_data.drop(columns=['geometry']).values\n",
        "#print(np.shape(spectral_data_labeled))\n",
        "#print(spectral_data_labeled[:5])\n",
        "\n",
        "spectral_data = spectral_data_labeled[:, 1:243]\n",
        "print(spectral_data[:,241])"
      ]
    },
    {
      "cell_type": "markdown",
      "source": [
        "### Create the 1D-CNN model"
      ],
      "metadata": {
        "id": "Em881k0Hi3oa"
      }
    },
    {
      "cell_type": "code",
      "source": [
        "import torch.nn as nn\n",
        "import torch.optim as optim\n",
        "from sklearn.model_selection import train_test_split\n",
        "from sklearn.preprocessing import LabelEncoder\n",
        "from sklearn.metrics import accuracy_score\n",
        "\n",
        "# Example hyperspectral data (N samples, C spectral bands)\n",
        "# Replace this with your actual data\n",
        "N, C = 21696, 242  # Example: 21696 pixels, 242 bands\n",
        "#X = spectral_data\n",
        "#Y = labels\n",
        "\n",
        "# Normalization (recommended for pretrained generic models like 1D CNN)\n",
        "spectral_data = (spectral_data - np.min(spectral_data)) / (np.max(spectral_data) - np.min(spectral_data))\n",
        "\n",
        "# Ensure spectral_data has a numeric dtype before converting to tensor\n",
        "spectral_data = spectral_data.astype(np.float32)  # or np.float64\n",
        "\n",
        "labels = smoothed_data['Label']\n",
        "print(labels)\n",
        "\n",
        "# Split the data into training and testing sets\n",
        "X_train, X_test, y_train, y_test = train_test_split(spectral_data, labels, test_size=0.2, random_state=42)\n",
        "\n",
        "# 1. Create train/val indices instead of directly splitting\n",
        "dataset_size = len(spectral_data)\n",
        "indices = list(range(dataset_size))\n",
        "split = int(np.floor(0.2 * dataset_size))  # 20% for validation\n",
        "np.random.shuffle(indices)  # Shuffle indices randomly\n",
        "train_indices, val_indices = indices[split:], indices[:split]\n",
        "\n",
        "# 2. Separate data using the indices\n",
        "X_train, X_val = spectral_data[train_indices], spectral_data[val_indices]\n",
        "y_train, y_val = labels.iloc[train_indices], labels.iloc[val_indices]\n",
        "\n",
        "# 3. Encode labels\n",
        "label_encoder = LabelEncoder()\n",
        "y_train_encoded = label_encoder.fit_transform(y_train)\n",
        "y_val_encoded = label_encoder.transform(y_val)\n",
        "\n",
        "# 4. Create PyTorch tensors\n",
        "X_train, X_val = torch.tensor(X_train, dtype=torch.float32), torch.tensor(X_val, dtype=torch.float32)\n",
        "y_train, y_val = torch.tensor(y_train_encoded, dtype=torch.long), torch.tensor(y_val_encoded, dtype=torch.long)\n",
        "\n",
        "# Set seeds for reproducibility\n",
        "random.seed(42)\n",
        "np.random.seed(42)\n",
        "torch.manual_seed(42)\n",
        "torch.cuda.manual_seed(42)  # If using CUDA\n",
        "torch.cuda.manual_seed_all(42)  # If using multiple GPUs\n",
        "torch.backends.cudnn.deterministic = True\n",
        "torch.backends.cudnn.benchmark = False\n",
        "\n",
        "# Define a 1D CNN for hyperspectral data classification\n",
        "class HyperspectralCNN(nn.Module):\n",
        "    def __init__(self, input_channels, num_classes):\n",
        "        super(HyperspectralCNN, self).__init__()\n",
        "        self.conv1 = nn.Conv1d(input_channels, 64, kernel_size=3, stride=1, padding=1)\n",
        "        self.conv2 = nn.Conv1d(64, 128, kernel_size=3, stride=1, padding=1)\n",
        "        self.pool = nn.MaxPool1d(kernel_size=2, stride=2)\n",
        "        fc1_input_size = 128 * input_channels #output size of conv2 x number of bands\n",
        "        self.fc1 = nn.Linear(fc1_input_size, 256)\n",
        "        self.fc2 = nn.Linear(256, num_classes)\n",
        "        self.relu = nn.ReLU()\n",
        "        self.dropout = nn.Dropout(0.5)\n",
        "\n",
        "    def forward(self, x):\n",
        "        x = self.conv1(x)\n",
        "        x = self.relu(x)\n",
        "        x = self.conv2(x)\n",
        "        x = self.relu(x)\n",
        "        # x = self.pool(x)\n",
        "\n",
        "        # Check if x has 3 dimensions before accessing x.size(2)\n",
        "        #if x.dim() == 3:\n",
        "        fc1_input_size = x.size(1) * x.size(2)\n",
        "        #else:\n",
        "            # If x has only 2 dimensions, calculate fc1_input_size accordingly\n",
        "        #    fc1_input_size = x.size(1)\n",
        "\n",
        "        x = x.view(x.size(0), -1)  # Flatten the tensor\n",
        "\n",
        "        # Adjust fc1 input size to match the actual flattened size\n",
        "        self.fc1 = nn.Linear(fc1_input_size, 256)\n",
        "\n",
        "        x = self.fc1(x)\n",
        "        x = self.relu(x)\n",
        "        x = self.dropout(x)\n",
        "        x = self.fc2(x)\n",
        "        return x"
      ],
      "metadata": {
        "id": "vj4VdttONilF",
        "colab": {
          "base_uri": "https://localhost:8080/"
        },
        "outputId": "60ea82f4-98ab-4f24-b895-f2d761719eb1"
      },
      "execution_count": 51,
      "outputs": [
        {
          "output_type": "stream",
          "name": "stdout",
          "text": [
            "0         BEPA\n",
            "1         ACRU\n",
            "2        Picea\n",
            "3         ACSA\n",
            "4         ABBA\n",
            "         ...  \n",
            "21691     THOC\n",
            "21692     THOC\n",
            "21693    Picea\n",
            "21694    Picea\n",
            "21695     Mort\n",
            "Name: Label, Length: 21696, dtype: object\n"
          ]
        }
      ]
    },
    {
      "cell_type": "markdown",
      "source": [
        "###Model parameters and optimizer and loss function set up\n",
        "\n",
        "\n",
        "\n"
      ],
      "metadata": {
        "id": "dLhry7-bi7Np"
      }
    },
    {
      "source": [
        "# Model parameters\n",
        "input_channels = C\n",
        "num_classes = len(torch.unique(y_train))  # Number of unique labels\n",
        "# Reshape for 1D CNN - Assuming spectral bands are in rows\n",
        "# Transpose to have samples in rows and spectral bands in columns\n",
        "X_train = X_train.T\n",
        "X_val = X_val.T\n",
        "\n",
        "# Initialize the model, loss function, and optimizer\n",
        "model = HyperspectralCNN(input_channels, num_classes)\n",
        "criterion = nn.CrossEntropyLoss()\n",
        "optimizer = optim.Adam(model.parameters(), lr=0.001)\n"
      ],
      "cell_type": "code",
      "metadata": {
        "id": "_RlsfYyaip4R"
      },
      "execution_count": 52,
      "outputs": []
    },
    {
      "cell_type": "markdown",
      "source": [
        "###Train the model"
      ],
      "metadata": {
        "id": "MM02_lhEi9E8"
      }
    },
    {
      "source": [
        "# Set seeds for reproducibility\n",
        "random.seed(42)\n",
        "np.random.seed(42)\n",
        "torch.manual_seed(42)\n",
        "torch.cuda.manual_seed(42)  # If using CUDA\n",
        "torch.cuda.manual_seed_all(42)  # If using multiple GPUs\n",
        "torch.backends.cudnn.deterministic = True\n",
        "torch.backends.cudnn.benchmark = False\n",
        "\n",
        "#Training loop\n",
        "num_epochs = 10  # You can adjust this\n",
        "for epoch in range(num_epochs):\n",
        "\n",
        " # Since your sequence length is 1 (each sample is a spectral signature),\n",
        "  # you need to add a dimension:\n",
        "  X_train_reshaped = X_train.T[:, :, None] #add extra dimension to have a 3D tensor\n",
        "\n",
        "  # Create a DataLoader to handle batching\n",
        "  train_dataset = torch.utils.data.TensorDataset(X_train_reshaped, y_train)  # Transpose X_train back\n",
        "\n",
        "  #Define batch size\n",
        "  batch_size = 32\n",
        "\n",
        "  train_loader = torch.utils.data.DataLoader(train_dataset, batch_size=batch_size, shuffle=True)\n",
        "\n",
        "  for batch_idx, (data, target) in enumerate(train_loader):\n",
        "    # Forward pass\n",
        "    outputs = model(data)\n",
        "    loss = criterion(outputs, target)\n",
        "\n",
        "    # Backward and optimize\n",
        "    optimizer.zero_grad()\n",
        "    loss.backward()\n",
        "    optimizer.step()\n",
        "\n",
        "    #Print loss every 100 iterations\n",
        "    if (batch_idx + 1) % 100 == 0:\n",
        "      print(f'Epoch [{epoch+1}/{num_epochs}], Iteration [{batch_idx+1}], Loss: {loss.item():.4f}')"
      ],
      "cell_type": "code",
      "metadata": {
        "id": "tI3YiwkAiqad",
        "colab": {
          "base_uri": "https://localhost:8080/"
        },
        "collapsed": true,
        "outputId": "d35635f4-e1af-4d29-9550-0791008ba58b"
      },
      "execution_count": 59,
      "outputs": [
        {
          "output_type": "stream",
          "name": "stdout",
          "text": [
            "Epoch [1/10], Iteration [100], Loss: 2.2410\n",
            "Epoch [1/10], Iteration [200], Loss: 1.7493\n",
            "Epoch [1/10], Iteration [300], Loss: 1.8656\n",
            "Epoch [1/10], Iteration [400], Loss: 1.5852\n",
            "Epoch [1/10], Iteration [500], Loss: 1.9077\n",
            "Epoch [2/10], Iteration [100], Loss: 1.6282\n",
            "Epoch [2/10], Iteration [200], Loss: 1.9671\n",
            "Epoch [2/10], Iteration [300], Loss: 1.8545\n",
            "Epoch [2/10], Iteration [400], Loss: 2.1785\n",
            "Epoch [2/10], Iteration [500], Loss: 1.6743\n",
            "Epoch [3/10], Iteration [100], Loss: 1.8831\n",
            "Epoch [3/10], Iteration [200], Loss: 1.7855\n",
            "Epoch [3/10], Iteration [300], Loss: 1.7046\n",
            "Epoch [3/10], Iteration [400], Loss: 1.8318\n",
            "Epoch [3/10], Iteration [500], Loss: 2.1580\n",
            "Epoch [4/10], Iteration [100], Loss: 1.7892\n",
            "Epoch [4/10], Iteration [200], Loss: 2.0033\n",
            "Epoch [4/10], Iteration [300], Loss: 2.2696\n",
            "Epoch [4/10], Iteration [400], Loss: 1.7002\n",
            "Epoch [4/10], Iteration [500], Loss: 1.7998\n",
            "Epoch [5/10], Iteration [100], Loss: 1.7105\n",
            "Epoch [5/10], Iteration [200], Loss: 1.6768\n",
            "Epoch [5/10], Iteration [300], Loss: 1.7562\n",
            "Epoch [5/10], Iteration [400], Loss: 1.7690\n",
            "Epoch [5/10], Iteration [500], Loss: 2.1067\n",
            "Epoch [6/10], Iteration [100], Loss: 1.6914\n",
            "Epoch [6/10], Iteration [200], Loss: 2.0367\n",
            "Epoch [6/10], Iteration [300], Loss: 1.6366\n",
            "Epoch [6/10], Iteration [400], Loss: 1.9595\n",
            "Epoch [6/10], Iteration [500], Loss: 2.0056\n",
            "Epoch [7/10], Iteration [100], Loss: 2.4741\n",
            "Epoch [7/10], Iteration [200], Loss: 2.3155\n",
            "Epoch [7/10], Iteration [300], Loss: 1.6708\n",
            "Epoch [7/10], Iteration [400], Loss: 1.9074\n",
            "Epoch [7/10], Iteration [500], Loss: 1.7990\n",
            "Epoch [8/10], Iteration [100], Loss: 1.7562\n",
            "Epoch [8/10], Iteration [200], Loss: 2.0048\n",
            "Epoch [8/10], Iteration [300], Loss: 1.8987\n",
            "Epoch [8/10], Iteration [400], Loss: 1.7093\n",
            "Epoch [8/10], Iteration [500], Loss: 1.7214\n",
            "Epoch [9/10], Iteration [100], Loss: 1.7751\n",
            "Epoch [9/10], Iteration [200], Loss: 2.0467\n",
            "Epoch [9/10], Iteration [300], Loss: 2.1784\n",
            "Epoch [9/10], Iteration [400], Loss: 1.9276\n",
            "Epoch [9/10], Iteration [500], Loss: 1.5872\n",
            "Epoch [10/10], Iteration [100], Loss: 1.9595\n",
            "Epoch [10/10], Iteration [200], Loss: 1.6915\n",
            "Epoch [10/10], Iteration [300], Loss: 1.6734\n",
            "Epoch [10/10], Iteration [400], Loss: 1.8276\n",
            "Epoch [10/10], Iteration [500], Loss: 1.7528\n"
          ]
        }
      ]
    },
    {
      "cell_type": "markdown",
      "source": [
        "###Evaluate the model"
      ],
      "metadata": {
        "id": "jDtYVD8RjAkz"
      }
    },
    {
      "source": [
        "# Evaluate the model on a test dataset\n",
        "model.eval()\n",
        "with torch.no_grad():\n",
        "   # Reshape the validation data to add an extra dimension for sequence length\n",
        "    X_val_reshaped = X_val.T[:, :, None]\n",
        "\n",
        "    # Create a DataLoader for the validation set\n",
        "    val_dataset = torch.utils.data.TensorDataset(X_val_reshaped, y_val)\n",
        "    val_loader = torch.utils.data.DataLoader(val_dataset, batch_size=batch_size, shuffle=False)  # No need to shuffle for evaluation\n",
        "\n",
        "    total_correct = 0\n",
        "    total_samples = 0\n",
        "\n",
        "    for data, target in val_loader:\n",
        "        outputs = model(data)\n",
        "        _, predicted = torch.max(outputs, 1)  # Get predicted class labels\n",
        "        total_correct += (predicted == target).sum().item()\n",
        "        total_samples += target.size(0)\n",
        "\n",
        "    accuracy = total_correct / total_samples\n",
        "    print(f\"Validation Accuracy: {accuracy:.4f}\")"
      ],
      "cell_type": "code",
      "metadata": {
        "id": "mehQgHDQirtC",
        "colab": {
          "base_uri": "https://localhost:8080/"
        },
        "outputId": "841336e7-2e11-44e1-d0e5-f21ecee06c16"
      },
      "execution_count": 60,
      "outputs": [
        {
          "output_type": "stream",
          "name": "stdout",
          "text": [
            "Validation Accuracy: 0.3607\n"
          ]
        }
      ]
    },
    {
      "cell_type": "markdown",
      "source": [
        "###Visualize model performance"
      ],
      "metadata": {
        "id": "J3xlVfWVherU"
      }
    },
    {
      "cell_type": "code",
      "source": [
        "!pip install scikit-learn\n",
        "from sklearn.metrics import confusion_matrix, ConfusionMatrixDisplay, f1_score, precision_score, recall_score, classification_report\n",
        "import numpy as np\n",
        "import matplotlib.pyplot as plt\n",
        "import seaborn as sns"
      ],
      "metadata": {
        "id": "d25DU_DGheAj",
        "outputId": "07153846-e8a5-4af6-8e0b-1ce72cb374ca",
        "colab": {
          "base_uri": "https://localhost:8080/"
        }
      },
      "execution_count": 61,
      "outputs": [
        {
          "output_type": "stream",
          "name": "stdout",
          "text": [
            "Requirement already satisfied: scikit-learn in /usr/local/lib/python3.10/dist-packages (1.5.2)\n",
            "Requirement already satisfied: numpy>=1.19.5 in /usr/local/lib/python3.10/dist-packages (from scikit-learn) (1.26.4)\n",
            "Requirement already satisfied: scipy>=1.6.0 in /usr/local/lib/python3.10/dist-packages (from scikit-learn) (1.13.1)\n",
            "Requirement already satisfied: joblib>=1.2.0 in /usr/local/lib/python3.10/dist-packages (from scikit-learn) (1.4.2)\n",
            "Requirement already satisfied: threadpoolctl>=3.1.0 in /usr/local/lib/python3.10/dist-packages (from scikit-learn) (3.5.0)\n"
          ]
        }
      ]
    },
    {
      "cell_type": "code",
      "source": [
        "# Get predictions for the entire validation set\n",
        "with torch.no_grad():\n",
        "    X_val_reshaped = X_val.T[:, :, None]  # Reshape validation data\n",
        "    outputs = model(X_val_reshaped)\n",
        "    _, predicted = torch.max(outputs, 1)  # Get predicted class labels\n",
        "\n",
        "# Calculate confusion matrix\n",
        "cm = confusion_matrix(y_val.cpu().numpy(), predicted.cpu().numpy(),labels=np.arange(len(label_encoder.classes_)))\n",
        "\n",
        "# Display confusion matrix\n",
        "disp = ConfusionMatrixDisplay(confusion_matrix=cm, display_labels=label_encoder.classes_)\n",
        "disp.plot(cmap=plt.cm.Blues)\n",
        "plt.title('Confusion Matrix')\n",
        "plt.show()\n",
        "\n",
        "print(np.diagonal(cm)) #Only ABBA, ACRU and THOC present TP"
      ],
      "metadata": {
        "id": "Fxy2M-VAhj1_",
        "outputId": "a0b36718-b8e9-429f-df9e-5f5491f8b01e",
        "colab": {
          "base_uri": "https://localhost:8080/",
          "height": 526
        }
      },
      "execution_count": 41,
      "outputs": [
        {
          "output_type": "display_data",
          "data": {
            "text/plain": [
              "<Figure size 640x480 with 2 Axes>"
            ],
            "image/png": "[encoded data removed]"
          },
          "metadata": {}
        },
        {
          "output_type": "stream",
          "name": "stdout",
          "text": [
            "[ 291    0 1041    0    0    0    0    0    0    0    0    0    0    0\n",
            "    0    0    0    0    0    0    0    0    0    0    0    0    0    0\n",
            "    0]\n"
          ]
        }
      ]
    },
    {
      "cell_type": "code",
      "source": [
        "# Assuming y_true and y_pred are your true and predicted labels\n",
        "with torch.no_grad():\n",
        "    X_val_reshaped = X_val.T[:, :, None]  # Reshape validation data\n",
        "    outputs = model(X_val_reshaped)\n",
        "    _, predicted = torch.max(outputs, 1)  # Get predicted class labels\n",
        "\n",
        "\n",
        "# Note: y_val is already on the CPU since it was used in the validation loop\n",
        "f1 = f1_score(y_val, predicted.cpu(), average='weighted')  # Use 'weighted' for multi-class\n",
        "print(f\"F1 Score: {f1:.4f}\")"
      ],
      "metadata": {
        "id": "JyCUP5fbrMPm",
        "outputId": "649556ed-dbb3-4b30-9e34-415f884ebecf",
        "colab": {
          "base_uri": "https://localhost:8080/"
        }
      },
      "execution_count": 74,
      "outputs": [
        {
          "output_type": "stream",
          "name": "stdout",
          "text": [
            "F1 Score: 0.3102\n",
            "tensor([ 0,  1,  2,  3,  4,  5,  6,  7,  9, 10, 11, 12, 13, 14, 16, 17, 18, 19,\n",
            "        21, 22, 24, 25, 26, 27, 28])\n"
          ]
        }
      ]
    },
    {
      "cell_type": "code",
      "source": [
        "from sklearn.metrics import classification_report\n",
        "\n",
        "report = classification_report(\n",
        "        y_val,\n",
        "        predicted.cpu(),\n",
        "        target_names=label_encoder.classes_,\n",
        "        labels=np.arange(len(label_encoder.classes_))  # All classes in the encoder\n",
        "  )\n",
        "print(report)"
      ],
      "metadata": {
        "id": "vMoFqeXorNjs",
        "outputId": "5fd7a86c-2c50-4be0-a933-c5d88f463f6d",
        "colab": {
          "base_uri": "https://localhost:8080/"
        }
      },
      "execution_count": 79,
      "outputs": [
        {
          "output_type": "stream",
          "name": "stdout",
          "text": [
            "              precision    recall  f1-score   support\n",
            "\n",
            "        ABBA       0.32      0.41      0.36       506\n",
            "        ACPE       0.00      0.00      0.00       141\n",
            "        ACRU       0.40      0.48      0.43      1126\n",
            "        ACSA       0.31      0.32      0.32       192\n",
            "        Acer       0.00      0.00      0.00        93\n",
            "        BEAL       0.00      0.00      0.00        63\n",
            "        BEPA       0.37      0.60      0.46      1140\n",
            "        BEPO       0.00      0.00      0.00         1\n",
            "      Betula       0.00      0.00      0.00         0\n",
            "    Conifere       0.00      0.00      0.00         6\n",
            "        FAGR       0.00      0.00      0.00        47\n",
            "        FRNI       0.00      0.00      0.00         1\n",
            "    Feuillus       0.00      0.00      0.00        12\n",
            "        LALA       0.00      0.00      0.00        33\n",
            "        Mort       0.00      0.00      0.00       135\n",
            "        OSVI       0.00      0.00      0.00         0\n",
            "        PIGL       0.00      0.00      0.00         3\n",
            "        PIMA       0.00      0.00      0.00        60\n",
            "        PIRU       0.00      0.00      0.00        11\n",
            "        PIST       0.00      0.00      0.00       118\n",
            "        POBA       0.00      0.00      0.00         0\n",
            "        POGR       0.00      0.00      0.00       227\n",
            "        POTR       0.00      0.00      0.00        12\n",
            "        PRPE       0.00      0.00      0.00         0\n",
            "       Picea       0.00      0.00      0.00       112\n",
            "     Populus       0.00      0.00      0.00         2\n",
            "        QURU       0.00      0.00      0.00         3\n",
            "        THOC       0.30      0.35      0.32       285\n",
            "        TSCA       0.00      0.00      0.00        10\n",
            "\n",
            "    accuracy                           0.36      4339\n",
            "   macro avg       0.06      0.07      0.07      4339\n",
            "weighted avg       0.27      0.36      0.31      4339\n",
            "\n"
          ]
        },
        {
          "output_type": "stream",
          "name": "stderr",
          "text": [
            "/usr/local/lib/python3.10/dist-packages/sklearn/metrics/_classification.py:1531: UndefinedMetricWarning: Precision is ill-defined and being set to 0.0 in labels with no predicted samples. Use `zero_division` parameter to control this behavior.\n",
            "  _warn_prf(average, modifier, f\"{metric.capitalize()} is\", len(result))\n",
            "/usr/local/lib/python3.10/dist-packages/sklearn/metrics/_classification.py:1531: UndefinedMetricWarning: Recall is ill-defined and being set to 0.0 in labels with no true samples. Use `zero_division` parameter to control this behavior.\n",
            "  _warn_prf(average, modifier, f\"{metric.capitalize()} is\", len(result))\n",
            "/usr/local/lib/python3.10/dist-packages/sklearn/metrics/_classification.py:1531: UndefinedMetricWarning: F-score is ill-defined and being set to 0.0 in labels with no true nor predicted samples. Use `zero_division` parameter to control this behavior.\n",
            "  _warn_prf(average, modifier, f\"{metric.capitalize()} is\", len(result))\n",
            "/usr/local/lib/python3.10/dist-packages/sklearn/metrics/_classification.py:1531: UndefinedMetricWarning: Precision is ill-defined and being set to 0.0 in labels with no predicted samples. Use `zero_division` parameter to control this behavior.\n",
            "  _warn_prf(average, modifier, f\"{metric.capitalize()} is\", len(result))\n",
            "/usr/local/lib/python3.10/dist-packages/sklearn/metrics/_classification.py:1531: UndefinedMetricWarning: Recall is ill-defined and being set to 0.0 in labels with no true samples. Use `zero_division` parameter to control this behavior.\n",
            "  _warn_prf(average, modifier, f\"{metric.capitalize()} is\", len(result))\n",
            "/usr/local/lib/python3.10/dist-packages/sklearn/metrics/_classification.py:1531: UndefinedMetricWarning: F-score is ill-defined and being set to 0.0 in labels with no true nor predicted samples. Use `zero_division` parameter to control this behavior.\n",
            "  _warn_prf(average, modifier, f\"{metric.capitalize()} is\", len(result))\n",
            "/usr/local/lib/python3.10/dist-packages/sklearn/metrics/_classification.py:1531: UndefinedMetricWarning: Precision is ill-defined and being set to 0.0 in labels with no predicted samples. Use `zero_division` parameter to control this behavior.\n",
            "  _warn_prf(average, modifier, f\"{metric.capitalize()} is\", len(result))\n",
            "/usr/local/lib/python3.10/dist-packages/sklearn/metrics/_classification.py:1531: UndefinedMetricWarning: Recall is ill-defined and being set to 0.0 in labels with no true samples. Use `zero_division` parameter to control this behavior.\n",
            "  _warn_prf(average, modifier, f\"{metric.capitalize()} is\", len(result))\n",
            "/usr/local/lib/python3.10/dist-packages/sklearn/metrics/_classification.py:1531: UndefinedMetricWarning: F-score is ill-defined and being set to 0.0 in labels with no true nor predicted samples. Use `zero_division` parameter to control this behavior.\n",
            "  _warn_prf(average, modifier, f\"{metric.capitalize()} is\", len(result))\n"
          ]
        }
      ]
    }
  ]
}
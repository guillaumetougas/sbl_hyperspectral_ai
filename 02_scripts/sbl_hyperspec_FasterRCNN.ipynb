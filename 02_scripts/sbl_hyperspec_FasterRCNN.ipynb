{
  "nbformat": 4,
  "nbformat_minor": 0,
  "metadata": {
    "colab": {
      "provenance": [],
      "mount_file_id": "1yap2e04sJKY1OPhmoar0iFPoy6yUUE8r",
      "authorship_tag": "ABX9TyM4Ki6U87E0PF9daL7ly5j0",
      "include_colab_link": true
    },
    "kernelspec": {
      "name": "python3",
      "display_name": "Python 3"
    },
    "language_info": {
      "name": "python"
    }
  },
  "cells": [
    {
      "cell_type": "markdown",
      "metadata": {
        "id": "view-in-github",
        "colab_type": "text"
      },
      "source": [
        "<a href=\"https://colab.research.google.com/github/guillaumetougas/sbl_hyperspectral_ai/blob/main/02_scripts/sbl_hyperspec_FasterRCNN.ipynb\" target=\"_parent\"><img src=\"https://colab.research.google.com/assets/colab-badge.svg\" alt=\"Open In Colab\"/></a>"
      ]
    },
    {
      "cell_type": "markdown",
      "source": [
        "#Faster R-CNN model from hyperspectral data\n"
      ],
      "metadata": {
        "id": "853dmOxfikrm"
      }
    },
    {
      "cell_type": "code",
      "source": [
        "import geopandas as gpd\n",
        "import pandas as pd\n",
        "import numpy as np\n",
        "import matplotlib.pyplot as plt\n",
        "import sklearn as sk\n",
        "import torch\n",
        "import torchvision as tv\n",
        "from torchvision.models.detection import fasterrcnn_resnet50_fpn\n",
        "from torchvision.models.detection.faster_rcnn import FastRCNNPredictor\n",
        "import torchaudio as ta\n",
        "!pip install rasterio\n",
        "import rasterio as rio"
      ],
      "metadata": {
        "colab": {
          "base_uri": "https://localhost:8080/"
        },
        "id": "dOvK6peqgfcw",
        "outputId": "8f624f28-911c-47fe-a3cf-71b9bae87f9c"
      },
      "execution_count": 6,
      "outputs": [
        {
          "output_type": "stream",
          "name": "stdout",
          "text": [
            "Requirement already satisfied: rasterio in /usr/local/lib/python3.10/dist-packages (1.4.3)\n",
            "Requirement already satisfied: affine in /usr/local/lib/python3.10/dist-packages (from rasterio) (2.4.0)\n",
            "Requirement already satisfied: attrs in /usr/local/lib/python3.10/dist-packages (from rasterio) (24.2.0)\n",
            "Requirement already satisfied: certifi in /usr/local/lib/python3.10/dist-packages (from rasterio) (2024.8.30)\n",
            "Requirement already satisfied: click>=4.0 in /usr/local/lib/python3.10/dist-packages (from rasterio) (8.1.7)\n",
            "Requirement already satisfied: cligj>=0.5 in /usr/local/lib/python3.10/dist-packages (from rasterio) (0.7.2)\n",
            "Requirement already satisfied: numpy>=1.24 in /usr/local/lib/python3.10/dist-packages (from rasterio) (1.26.4)\n",
            "Requirement already satisfied: click-plugins in /usr/local/lib/python3.10/dist-packages (from rasterio) (1.1.1)\n",
            "Requirement already satisfied: pyparsing in /usr/local/lib/python3.10/dist-packages (from rasterio) (3.2.0)\n"
          ]
        }
      ]
    },
    {
      "cell_type": "markdown",
      "source": [
        "###Load preprocessed HS data"
      ],
      "metadata": {
        "id": "I1CEjIvoiwOJ"
      }
    },
    {
      "cell_type": "code",
      "execution_count": 24,
      "metadata": {
        "colab": {
          "base_uri": "https://localhost:8080/"
        },
        "id": "KR7BZn-XgVqy",
        "outputId": "2ed4ba13-5890-427f-9faf-bd58013f30c1"
      },
      "outputs": [
        {
          "output_type": "stream",
          "name": "stdout",
          "text": [
            "(21696, 246)\n",
            "[['1' 0.0014360744236254599 0.0016860739034256812 ... 'BEPA'\n",
            "  20.6998377058 18.0239535584]\n",
            " ['10' 0.0 3.7468307932240064e-06 ... 'ACRU' 8.92277349821 3.50901934984]\n",
            " ['100' 0.0 0.00018155946172550302 ... 'Picea' 12.975775825 7.35715668545]\n",
            " ['1000' 0.00011515454612388588 0.000444991645046132 ... 'ACSA'\n",
            "  12.9757616982 8.00540072982]\n",
            " ['10000' 0.005083690612008917 0.004094856722796195 ... 'ABBA'\n",
            "  9.26431133742 5.2001091841]]\n",
            "torch.Size([21696, 241])\n"
          ]
        }
      ],
      "source": [
        "#Load HS data with geopandas\n",
        "smoothed_data=gpd.read_file(\"/content/drive/MyDrive/2024-Tougas-PhD/Data_SBL_HS_AI/sbl_smoothed_spectra.gpkg\")\n",
        "\n",
        "#isolate spectral data and prepare with rasterio\n",
        "spectral_data_labeled = smoothed_data.drop(columns=['geometry']).values\n",
        "print(np.shape(spectral_data_labeled))\n",
        "print(spectral_data_labeled[:5])\n",
        "\n",
        "spectral_data = spectral_data_labeled[:, 2:243]\n",
        "\n",
        "# Normalization (recommended for pretrained genereic models like faster rcnn resnet 50)\n",
        "spectral_data = (spectral_data - np.min(spectral_data)) / (np.max(spectral_data) - np.min(spectral_data))\n",
        "\n",
        "# Ensure spectral_data has a numeric dtype before converting to tensor\n",
        "spectral_data = spectral_data.astype(np.float32)  # or np.float64\n",
        "\n",
        "# Conversion in PyTorch tensor\n",
        "spectral_tensor = torch.tensor(spectral_data, dtype=torch.float32)\n",
        "\n",
        "print(spectral_tensor.shape)\n"
      ]
    },
    {
      "cell_type": "markdown",
      "source": [
        "### Create the Faster R-CNN model"
      ],
      "metadata": {
        "id": "Em881k0Hi3oa"
      }
    },
    {
      "cell_type": "code",
      "source": [
        "# Load a pre-trained Faster R-CNN model\n",
        "model = fasterrcnn_resnet50_fpn(pretrained=True)\n",
        "\n",
        "# Replace the classifier with a new one for your specific task\n",
        "num_classes = 30 # Number of classes in your dataset + 1 (for background)\n",
        "in_features = model.roi_heads.box_predictor.cls_score.in_features\n",
        "model.roi_heads.box_predictor = FastRCNNPredictor(in_features, num_classes)"
      ],
      "metadata": {
        "id": "oeeNM1nTiiCi"
      },
      "execution_count": 25,
      "outputs": []
    },
    {
      "cell_type": "code",
      "source": [
        "# Modify the model's input to accept hyperspectral data\n",
        "# This might involve changing the first layer of the model to accept\n",
        "# the correct number of input channels (bands in your hyperspectral data)\n",
        "# ..."
      ],
      "metadata": {
        "id": "vj4VdttONilF"
      },
      "execution_count": null,
      "outputs": []
    },
    {
      "cell_type": "markdown",
      "source": [
        "###Prepare the dataset and data loaders\n",
        "\n"
      ],
      "metadata": {
        "id": "dLhry7-bi7Np"
      }
    },
    {
      "source": [
        "# Create a custom dataset class for your hyperspectral data and annotations\n",
        "# ...\n",
        "\n",
        "# Create data loaders for training and validation\n",
        "# ..."
      ],
      "cell_type": "code",
      "metadata": {
        "id": "_RlsfYyaip4R"
      },
      "execution_count": null,
      "outputs": []
    },
    {
      "cell_type": "markdown",
      "source": [
        "###Train the model"
      ],
      "metadata": {
        "id": "MM02_lhEi9E8"
      }
    },
    {
      "source": [
        "# Define an optimizer and loss function\n",
        "# ...\n",
        "\n",
        "# Train the model for a certain number of epochs\n",
        "# ..."
      ],
      "cell_type": "code",
      "metadata": {
        "id": "tI3YiwkAiqad"
      },
      "execution_count": null,
      "outputs": []
    },
    {
      "cell_type": "markdown",
      "source": [
        "###Evaluate the model"
      ],
      "metadata": {
        "id": "jDtYVD8RjAkz"
      }
    },
    {
      "source": [
        "# Evaluate the model on a test dataset\n",
        "# ..."
      ],
      "cell_type": "code",
      "metadata": {
        "id": "mehQgHDQirtC"
      },
      "execution_count": null,
      "outputs": []
    }
  ]
}
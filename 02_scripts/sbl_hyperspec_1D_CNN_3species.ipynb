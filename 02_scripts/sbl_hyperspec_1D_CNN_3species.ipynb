{
  "nbformat": 4,
  "nbformat_minor": 0,
  "metadata": {
    "colab": {
      "provenance": [],
      "machine_shape": "hm",
      "gpuType": "A100",
      "mount_file_id": "https://github.com/guillaumetougas/sbl_hyperspectral_ai/blob/main/02_scripts/sbl_hyperspec_1D_CNN.ipynb",
      "authorship_tag": "ABX9TyPF4weXdlfZswUggtX8OXd2",
      "include_colab_link": true
    },
    "kernelspec": {
      "name": "python3",
      "display_name": "Python 3"
    },
    "language_info": {
      "name": "python"
    },
    "accelerator": "GPU"
  },
  "cells": [
    {
      "cell_type": "markdown",
      "metadata": {
        "id": "view-in-github",
        "colab_type": "text"
      },
      "source": [
        "<a href=\"https://colab.research.google.com/github/guillaumetougas/sbl_hyperspectral_ai/blob/main/02_scripts/sbl_hyperspec_1D_CNN_3species.ipynb\" target=\"_parent\"><img src=\"https://colab.research.google.com/assets/colab-badge.svg\" alt=\"Open In Colab\"/></a>"
      ]
    },
    {
      "cell_type": "markdown",
      "source": [
        "#1D-CNN model from hyperspectral data\n"
      ],
      "metadata": {
        "id": "853dmOxfikrm"
      }
    },
    {
      "cell_type": "code",
      "source": [
        "import geopandas as gpd\n",
        "import pandas as pd\n",
        "import numpy as np\n",
        "import matplotlib.pyplot as plt\n",
        "import sklearn as sk\n",
        "import torch\n",
        "import torchvision as tv\n",
        "from torchvision.models.detection import fasterrcnn_resnet50_fpn\n",
        "from torchvision.models.detection.faster_rcnn import FastRCNNPredictor\n",
        "import torchaudio as ta\n",
        "!pip install rasterio\n",
        "import rasterio as rio"
      ],
      "metadata": {
        "colab": {
          "base_uri": "https://localhost:8080/"
        },
        "id": "dOvK6peqgfcw",
        "outputId": "eff8315d-91c1-4004-e93b-f32ec744a372"
      },
      "execution_count": 32,
      "outputs": [
        {
          "output_type": "stream",
          "name": "stdout",
          "text": [
            "Requirement already satisfied: rasterio in /usr/local/lib/python3.10/dist-packages (1.4.3)\n",
            "Requirement already satisfied: affine in /usr/local/lib/python3.10/dist-packages (from rasterio) (2.4.0)\n",
            "Requirement already satisfied: attrs in /usr/local/lib/python3.10/dist-packages (from rasterio) (24.2.0)\n",
            "Requirement already satisfied: certifi in /usr/local/lib/python3.10/dist-packages (from rasterio) (2024.8.30)\n",
            "Requirement already satisfied: click>=4.0 in /usr/local/lib/python3.10/dist-packages (from rasterio) (8.1.7)\n",
            "Requirement already satisfied: cligj>=0.5 in /usr/local/lib/python3.10/dist-packages (from rasterio) (0.7.2)\n",
            "Requirement already satisfied: numpy>=1.24 in /usr/local/lib/python3.10/dist-packages (from rasterio) (1.26.4)\n",
            "Requirement already satisfied: click-plugins in /usr/local/lib/python3.10/dist-packages (from rasterio) (1.1.1)\n",
            "Requirement already satisfied: pyparsing in /usr/local/lib/python3.10/dist-packages (from rasterio) (3.2.0)\n"
          ]
        }
      ]
    },
    {
      "cell_type": "markdown",
      "source": [
        "###Load preprocessed HS data"
      ],
      "metadata": {
        "id": "I1CEjIvoiwOJ"
      }
    },
    {
      "cell_type": "code",
      "source": [
        "from google.colab import drive\n",
        "drive.mount('/content/drive')"
      ],
      "metadata": {
        "id": "munG550aGaOv",
        "colab": {
          "base_uri": "https://localhost:8080/"
        },
        "outputId": "33e608e3-aaef-49d9-d1f3-a8b7e6619274"
      },
      "execution_count": 33,
      "outputs": [
        {
          "output_type": "stream",
          "name": "stdout",
          "text": [
            "Drive already mounted at /content/drive; to attempt to forcibly remount, call drive.mount(\"/content/drive\", force_remount=True).\n"
          ]
        }
      ]
    },
    {
      "cell_type": "code",
      "source": [
        "import random\n",
        "# Set seeds for reproducibility\n",
        "random.seed(42)\n",
        "np.random.seed(42)\n",
        "torch.manual_seed(42)\n",
        "torch.cuda.manual_seed(42)\n",
        "torch.cuda.manual_seed_all(42)\n",
        "torch.backends.cudnn.deterministic = True\n",
        "torch.backends.cudnn.benchmark = False"
      ],
      "metadata": {
        "id": "6TD51vbRmdXC"
      },
      "execution_count": 34,
      "outputs": []
    },
    {
      "cell_type": "code",
      "execution_count": 35,
      "metadata": {
        "colab": {
          "base_uri": "https://localhost:8080/"
        },
        "id": "KR7BZn-XgVqy",
        "outputId": "55bb07fd-a8b1-4d5d-d64e-8d046bfdfb92"
      },
      "outputs": [
        {
          "output_type": "stream",
          "name": "stdout",
          "text": [
            "<class 'numpy.ndarray'>\n",
            "(21696, 246)\n",
            "[0.06830659106593368 0.05044518727648489 0.00028019072714709 ...\n",
            " 0.054798048697016474 0.0 0.0]\n",
            "14008\n",
            "(14008,)\n"
          ]
        }
      ],
      "source": [
        "#Load HS data with geopandas\n",
        "smoothed_data=gpd.read_file(\"/content/drive/MyDrive/2024-Tougas-PhD/Data_SBL_HS_AI/sbl_smoothed_spectra.gpkg\")\n",
        "\n",
        "#isolate spectral data and prepare with rasterio\n",
        "spectral_data_labeled = smoothed_data.drop(columns=['geometry']).values\n",
        "print(type(spectral_data_labeled))\n",
        "print(spectral_data_labeled.shape)\n",
        "#print(np.shape(spectral_data_labeled))\n",
        "#print(spectral_data_labeled[:5])\n",
        "\n",
        "#filter out unwanted species (keep 3 most important)\n",
        "# Get column index for 'Label'\n",
        "label_col_idx = smoothed_data.columns.get_loc('Label')  # Find the column index for 'Label'\n",
        "\n",
        "# Get unique labels and their counts using numpy\n",
        "unique_labels, label_counts = np.unique(spectral_data_labeled[:, label_col_idx], return_counts=True)\n",
        "\n",
        "# Sort labels by counts and get the top 3\n",
        "sorted_indices = np.argsort(label_counts)[::-1]  # Sort in descending order\n",
        "top_3_species = unique_labels[sorted_indices[:3]]\n",
        "\n",
        "# Filter spectral_data_labeled based on top_3_species\n",
        "filtered_indices = np.isin(spectral_data_labeled[:, label_col_idx], top_3_species)\n",
        "filtered_data = spectral_data_labeled[filtered_indices]\n",
        "\n",
        "spectral_data = filtered_data[:, 1:243]\n",
        "print(spectral_data[:,241])\n",
        "print(len(spectral_data))\n",
        "\n",
        "labels = filtered_data[:,label_col_idx]\n",
        "print(labels.shape)"
      ]
    },
    {
      "cell_type": "markdown",
      "source": [
        "### Create the 1D-CNN model"
      ],
      "metadata": {
        "id": "Em881k0Hi3oa"
      }
    },
    {
      "cell_type": "code",
      "source": [
        "import torch.nn as nn\n",
        "import torch.optim as optim\n",
        "from sklearn.model_selection import train_test_split\n",
        "from sklearn.preprocessing import LabelEncoder\n",
        "from sklearn.metrics import accuracy_score\n",
        "\n",
        "# Example hyperspectral data (N samples, C spectral bands)\n",
        "# Replace this with your actual data\n",
        "N, C = len(spectral_data), spectral_data.shape[1]\n",
        "# Example: 21696 pixels, 242 bands\n",
        "#X = spectral_data\n",
        "#Y = labels\n",
        "\n",
        "# Normalization (recommended for pretrained generic models like 1D CNN)\n",
        "spectral_data = (spectral_data - np.min(spectral_data)) / (np.max(spectral_data) - np.min(spectral_data))\n",
        "\n",
        "# Ensure spectral_data has a numeric dtype before converting to tensor\n",
        "spectral_data = spectral_data.astype(np.float32)  # or np.float64\n",
        "\n",
        "# Split the data into training and testing sets\n",
        "X_train, X_test, y_train, y_test = train_test_split(spectral_data, labels, test_size=0.2, random_state=42)\n",
        "\n",
        "# 1. Create train/val indices instead of directly splitting\n",
        "dataset_size = len(spectral_data)\n",
        "print(dataset_size)\n",
        "indices = list(range(dataset_size))\n",
        "split = int(np.floor(0.2 * dataset_size))  # 20% for validation\n",
        "print(split)\n",
        "np.random.shuffle(indices)  # Shuffle indices randomly\n",
        "train_indices, val_indices = indices[split:], indices[:split]\n",
        "\n",
        "# 2. Separate data using the indices\n",
        "X_train, X_val = spectral_data[train_indices], spectral_data[val_indices]\n",
        "y_train, y_val = labels[train_indices], labels[val_indices]\n",
        "\n",
        "# 3. Encode labels\n",
        "label_encoder = LabelEncoder()\n",
        "y_train_encoded = label_encoder.fit_transform(y_train)\n",
        "y_val_encoded = label_encoder.transform(y_val)\n",
        "\n",
        "# 4. Create PyTorch tensors\n",
        "X_train, X_val = torch.tensor(X_train, dtype=torch.float32), torch.tensor(X_val, dtype=torch.float32)\n",
        "y_train, y_val = torch.tensor(y_train_encoded, dtype=torch.long), torch.tensor(y_val_encoded, dtype=torch.long)"
      ],
      "metadata": {
        "id": "vj4VdttONilF",
        "colab": {
          "base_uri": "https://localhost:8080/"
        },
        "outputId": "83efd613-6d3c-411a-898b-2adc91105b14"
      },
      "execution_count": 36,
      "outputs": [
        {
          "output_type": "stream",
          "name": "stdout",
          "text": [
            "14008\n",
            "2801\n"
          ]
        }
      ]
    },
    {
      "cell_type": "code",
      "source": [
        "# Set seeds for reproducibility\n",
        "random.seed(42)\n",
        "np.random.seed(42)\n",
        "torch.manual_seed(42)\n",
        "torch.cuda.manual_seed(42)  # If using CUDA\n",
        "torch.cuda.manual_seed_all(42)  # If using multiple GPUs\n",
        "torch.backends.cudnn.deterministic = True\n",
        "torch.backends.cudnn.benchmark = False\n",
        "\n",
        "# Define a 1D CNN for hyperspectral data classification\n",
        "class HyperspectralCNN(nn.Module):\n",
        "    def __init__(self, input_channels, num_classes):\n",
        "        super(HyperspectralCNN, self).__init__()\n",
        "        self.conv1 = nn.Conv1d(input_channels, 64, kernel_size=3, stride=1, padding=1)\n",
        "        self.conv2 = nn.Conv1d(64, 128, kernel_size=3, stride=1, padding=1)\n",
        "        self.pool = nn.MaxPool1d(kernel_size=2, stride=2)\n",
        "        fc1_input_size = 128 * input_channels #output size of conv2 x number of bands\n",
        "        self.fc1 = nn.Linear(fc1_input_size, 256)\n",
        "        self.fc2 = nn.Linear(256, num_classes)\n",
        "        self.relu = nn.ReLU()\n",
        "        self.dropout = nn.Dropout(0.5)\n",
        "\n",
        "    def forward(self, x):\n",
        "        x = self.conv1(x)\n",
        "        x = self.relu(x)\n",
        "        x = self.conv2(x)\n",
        "        x = self.relu(x)\n",
        "        # x = self.pool(x)\n",
        "\n",
        "        # Check if x has 3 dimensions before accessing x.size(2)\n",
        "        #if x.dim() == 3:\n",
        "        fc1_input_size = x.size(1) * x.size(2)\n",
        "        #else:\n",
        "            # If x has only 2 dimensions, calculate fc1_input_size accordingly\n",
        "        #    fc1_input_size = x.size(1)\n",
        "\n",
        "        x = x.view(x.size(0), -1)  # Flatten the tensor\n",
        "\n",
        "        # Adjust fc1 input size to match the actual flattened size\n",
        "        self.fc1 = nn.Linear(fc1_input_size, 256)\n",
        "\n",
        "        x = self.fc1(x)\n",
        "        x = self.relu(x)\n",
        "        x = self.dropout(x)\n",
        "        x = self.fc2(x)\n",
        "        return x"
      ],
      "metadata": {
        "id": "GCB3GD4Fq1YA"
      },
      "execution_count": 37,
      "outputs": []
    },
    {
      "cell_type": "markdown",
      "source": [
        "### Set up focal loss function for class imbalance"
      ],
      "metadata": {
        "id": "cSBFABxv5vc0"
      }
    },
    {
      "cell_type": "code",
      "source": [
        "import torch.nn as nn\n",
        "import torch.nn.functional as F\n",
        "\n",
        "class FocalLoss(nn.Module):\n",
        "    def __init__(self, gamma=2, alpha=None, reduction='mean'):\n",
        "        super(FocalLoss, self).__init__()\n",
        "        self.gamma = gamma\n",
        "        self.alpha = alpha\n",
        "        self.reduction = reduction\n",
        "\n",
        "    def forward(self, inputs, targets):\n",
        "        ce_loss = F.cross_entropy(inputs, targets, reduction='none')\n",
        "        pt = torch.exp(-ce_loss)\n",
        "        focal_loss = (1 - pt) ** self.gamma * ce_loss\n",
        "        if self.alpha is not None:\n",
        "            focal_loss = self.alpha * focal_loss\n",
        "        if self.reduction == 'mean':\n",
        "            return focal_loss.mean()\n",
        "        elif self.reduction == 'sum':\n",
        "            return focal_loss.sum()\n",
        "        else:\n",
        "            return focal_loss"
      ],
      "metadata": {
        "id": "df6syRR55zk2"
      },
      "execution_count": 38,
      "outputs": []
    },
    {
      "cell_type": "markdown",
      "source": [
        "###Model parameters and optimizer and loss function set up\n",
        "\n",
        "\n",
        "\n"
      ],
      "metadata": {
        "id": "dLhry7-bi7Np"
      }
    },
    {
      "source": [
        "# Model parameters\n",
        "input_channels = C\n",
        "num_classes = len(torch.unique(y_train))  # Number of unique labels\n",
        "# Reshape for 1D CNN - Assuming spectral bands are in rows\n",
        "# Transpose to have samples in rows and spectral bands in columns\n",
        "X_train = X_train.T\n",
        "X_val = X_val.T\n",
        "\n",
        "# Reshape X_train before the loop\n",
        "X_train_reshaped = X_train.T[:, :, None]  # add extra dimension to have a 3D tensor\n",
        "\n",
        "# Create train_dataset and train_loader outside the loop\n",
        "train_dataset = torch.utils.data.TensorDataset(X_train_reshaped, y_train)\n",
        "batch_size = 32\n",
        "train_loader = torch.utils.data.DataLoader(train_dataset, batch_size=batch_size, shuffle=True)\n",
        "\n",
        "# Initialize the model, loss function, and optimizer\n",
        "model = HyperspectralCNN(input_channels, num_classes)\n",
        "criterion = FocalLoss(gamma=2)\n",
        "optimizer = optim.Adam(model.parameters(), lr=0.001)\n"
      ],
      "cell_type": "code",
      "metadata": {
        "id": "_RlsfYyaip4R"
      },
      "execution_count": 52,
      "outputs": []
    },
    {
      "cell_type": "markdown",
      "source": [
        "###Train the model"
      ],
      "metadata": {
        "id": "MM02_lhEi9E8"
      }
    },
    {
      "source": [
        "# Set seeds for reproducibility\n",
        "random.seed(42)\n",
        "np.random.seed(42)\n",
        "torch.manual_seed(42)\n",
        "torch.cuda.manual_seed(42)  # If using CUDA\n",
        "torch.cuda.manual_seed_all(42)  # If using multiple GPUs\n",
        "torch.backends.cudnn.deterministic = True\n",
        "torch.backends.cudnn.benchmark = False\n",
        "\n",
        "#Training loop\n",
        "num_epochs = 10  # You can adjust this\n",
        "for epoch in range(num_epochs):\n",
        "  for batch_idx, (data, target) in enumerate(train_loader):\n",
        "    # Forward pass\n",
        "    outputs = model(data)\n",
        "    loss = criterion(outputs, target)\n",
        "\n",
        "    # Backward and optimize\n",
        "    optimizer.zero_grad()\n",
        "    loss.backward()\n",
        "    optimizer.step()\n",
        "\n",
        "    #Print loss every 100 iterations\n",
        "    if (batch_idx + 1) % 100 == 0:\n",
        "      print(f'Epoch [{epoch+1}/{num_epochs}], Iteration [{batch_idx+1}], Loss: {loss.item():.4f}')"
      ],
      "cell_type": "code",
      "metadata": {
        "id": "tI3YiwkAiqad",
        "colab": {
          "base_uri": "https://localhost:8080/"
        },
        "collapsed": true,
        "outputId": "344f3da5-3043-49c7-ed47-dd34e61118e0"
      },
      "execution_count": 56,
      "outputs": [
        {
          "output_type": "stream",
          "name": "stdout",
          "text": [
            "Epoch [1/10], Iteration [100], Loss: 0.2555\n",
            "Epoch [1/10], Iteration [200], Loss: 0.3049\n",
            "Epoch [1/10], Iteration [300], Loss: 0.3757\n",
            "Epoch [2/10], Iteration [100], Loss: 0.3572\n",
            "Epoch [2/10], Iteration [200], Loss: 0.3344\n",
            "Epoch [2/10], Iteration [300], Loss: 0.5196\n",
            "Epoch [3/10], Iteration [100], Loss: 0.4187\n",
            "Epoch [3/10], Iteration [200], Loss: 0.3411\n",
            "Epoch [3/10], Iteration [300], Loss: 0.3656\n",
            "Epoch [4/10], Iteration [100], Loss: 0.3386\n",
            "Epoch [4/10], Iteration [200], Loss: 0.3990\n",
            "Epoch [4/10], Iteration [300], Loss: 0.3780\n",
            "Epoch [5/10], Iteration [100], Loss: 0.4162\n",
            "Epoch [5/10], Iteration [200], Loss: 0.4089\n",
            "Epoch [5/10], Iteration [300], Loss: 0.4216\n",
            "Epoch [6/10], Iteration [100], Loss: 0.2551\n",
            "Epoch [6/10], Iteration [200], Loss: 0.3927\n",
            "Epoch [6/10], Iteration [300], Loss: 0.5022\n",
            "Epoch [7/10], Iteration [100], Loss: 0.3257\n",
            "Epoch [7/10], Iteration [200], Loss: 0.2221\n",
            "Epoch [7/10], Iteration [300], Loss: 0.3723\n",
            "Epoch [8/10], Iteration [100], Loss: 0.3441\n",
            "Epoch [8/10], Iteration [200], Loss: 0.3729\n",
            "Epoch [8/10], Iteration [300], Loss: 0.2669\n",
            "Epoch [9/10], Iteration [100], Loss: 0.4186\n",
            "Epoch [9/10], Iteration [200], Loss: 0.3431\n",
            "Epoch [9/10], Iteration [300], Loss: 0.2960\n",
            "Epoch [10/10], Iteration [100], Loss: 0.3136\n",
            "Epoch [10/10], Iteration [200], Loss: 0.2813\n",
            "Epoch [10/10], Iteration [300], Loss: 0.2984\n"
          ]
        }
      ]
    },
    {
      "cell_type": "markdown",
      "source": [
        "###Evaluate the model"
      ],
      "metadata": {
        "id": "jDtYVD8RjAkz"
      }
    },
    {
      "source": [
        "# Evaluate the model on a test dataset\n",
        "model.eval()\n",
        "with torch.no_grad():\n",
        "   # Reshape the validation data to add an extra dimension for sequence length\n",
        "    X_val_reshaped = X_val.T[:, :, None]\n",
        "\n",
        "    # Create a DataLoader for the validation set\n",
        "    val_dataset = torch.utils.data.TensorDataset(X_val_reshaped, y_val)\n",
        "    val_loader = torch.utils.data.DataLoader(val_dataset, batch_size=batch_size, shuffle=False)  # No need to shuffle for evaluation\n",
        "\n",
        "    total_correct = 0\n",
        "    total_samples = 0\n",
        "\n",
        "    for data, target in val_loader:\n",
        "        outputs = model(data)\n",
        "        _, predicted = torch.max(outputs, 1)  # Get predicted class labels\n",
        "        total_correct += (predicted == target).sum().item()\n",
        "        total_samples += target.size(0)\n",
        "\n",
        "    accuracy = total_correct / total_samples\n",
        "    print(f\"Validation Accuracy: {accuracy:.4f}\")"
      ],
      "cell_type": "code",
      "metadata": {
        "id": "mehQgHDQirtC",
        "colab": {
          "base_uri": "https://localhost:8080/"
        },
        "outputId": "84749d9c-cf88-40b0-e857-4a2129aa5c66"
      },
      "execution_count": 57,
      "outputs": [
        {
          "output_type": "stream",
          "name": "stdout",
          "text": [
            "Validation Accuracy: 0.5377\n"
          ]
        }
      ]
    },
    {
      "cell_type": "markdown",
      "source": [
        "###Visualize model performance"
      ],
      "metadata": {
        "id": "J3xlVfWVherU"
      }
    },
    {
      "cell_type": "code",
      "source": [
        "!pip install scikit-learn\n",
        "from sklearn.metrics import confusion_matrix, ConfusionMatrixDisplay, f1_score, precision_score, recall_score, classification_report\n",
        "import numpy as np\n",
        "import matplotlib.pyplot as plt\n",
        "import seaborn as sns"
      ],
      "metadata": {
        "id": "d25DU_DGheAj",
        "outputId": "f859eeb0-4e4e-486a-88e1-1014194eaaba",
        "colab": {
          "base_uri": "https://localhost:8080/"
        }
      },
      "execution_count": 58,
      "outputs": [
        {
          "output_type": "stream",
          "name": "stdout",
          "text": [
            "Requirement already satisfied: scikit-learn in /usr/local/lib/python3.10/dist-packages (1.5.2)\n",
            "Requirement already satisfied: numpy>=1.19.5 in /usr/local/lib/python3.10/dist-packages (from scikit-learn) (1.26.4)\n",
            "Requirement already satisfied: scipy>=1.6.0 in /usr/local/lib/python3.10/dist-packages (from scikit-learn) (1.13.1)\n",
            "Requirement already satisfied: joblib>=1.2.0 in /usr/local/lib/python3.10/dist-packages (from scikit-learn) (1.4.2)\n",
            "Requirement already satisfied: threadpoolctl>=3.1.0 in /usr/local/lib/python3.10/dist-packages (from scikit-learn) (3.5.0)\n"
          ]
        }
      ]
    },
    {
      "cell_type": "code",
      "source": [
        "# Get predictions for the entire validation set\n",
        "with torch.no_grad():\n",
        "    X_val_reshaped = X_val.T[:, :, None]  # Reshape validation data\n",
        "    outputs = model(X_val_reshaped)\n",
        "    _, predicted = torch.max(outputs, 1)  # Get predicted class labels\n",
        "\n",
        "# Calculate confusion matrix\n",
        "cm = confusion_matrix(y_val.cpu().numpy(), predicted.cpu().numpy(),labels=np.arange(len(label_encoder.classes_)))\n",
        "\n",
        "# Display confusion matrix\n",
        "disp = ConfusionMatrixDisplay(confusion_matrix=cm, display_labels=label_encoder.classes_)\n",
        "disp.plot(cmap=plt.cm.Blues)\n",
        "plt.title('Confusion Matrix')\n",
        "plt.show()\n",
        "\n",
        "print(np.diagonal(cm)) #Only ABBA, ACRU and THOC present TP"
      ],
      "metadata": {
        "id": "Fxy2M-VAhj1_",
        "outputId": "89f79fcb-a4e8-408a-de19-e916d0c2b599",
        "colab": {
          "base_uri": "https://localhost:8080/",
          "height": 490
        }
      },
      "execution_count": 59,
      "outputs": [
        {
          "output_type": "display_data",
          "data": {
            "text/plain": [
              "<Figure size 640x480 with 2 Axes>"
            ],
            "image/png": "[encoded data removed]"
          },
          "metadata": {}
        },
        {
          "output_type": "stream",
          "name": "stdout",
          "text": [
            "[385 875 208]\n"
          ]
        }
      ]
    },
    {
      "cell_type": "code",
      "source": [
        "# Assuming y_true and y_pred are your true and predicted labels\n",
        "with torch.no_grad():\n",
        "    X_val_reshaped = X_val.T[:, :, None]  # Reshape validation data\n",
        "    outputs = model(X_val_reshaped)\n",
        "    _, predicted = torch.max(outputs, 1)  # Get predicted class labels\n",
        "\n",
        "\n",
        "# Note: y_val is already on the CPU since it was used in the validation loop\n",
        "f1 = f1_score(y_val, predicted.cpu(), average='weighted')  # Use 'weighted' for multi-class\n",
        "print(f\"F1 Score: {f1:.4f}\")"
      ],
      "metadata": {
        "colab": {
          "base_uri": "https://localhost:8080/"
        },
        "id": "JyCUP5fbrMPm",
        "outputId": "19202fa7-870a-4096-da09-25a468367d4b"
      },
      "execution_count": 60,
      "outputs": [
        {
          "output_type": "stream",
          "name": "stdout",
          "text": [
            "F1 Score: 0.5671\n"
          ]
        }
      ]
    },
    {
      "cell_type": "code",
      "source": [
        "from sklearn.metrics import classification_report\n",
        "\n",
        "report = classification_report(\n",
        "        y_val,\n",
        "        predicted.cpu(),\n",
        "        target_names=label_encoder.classes_,\n",
        "        labels=np.arange(len(label_encoder.classes_))  # All classes in the encoder\n",
        "  )\n",
        "print(report)\n",
        "\n",
        "file_path = '/content/drive/MyDrive/2024-Tougas-PhD/Data_SBL_HS_AI/classification_reports/20241212_classification_report_200_epochs.txt'\n",
        "\n",
        "#with open(file_path, 'w') as f:\n",
        "#    report = classification_report(\n",
        "#        y_val,\n",
        "#        predicted.cpu(),\n",
        "#        target_names=label_encoder.classes_,\n",
        "#        labels=np.arange(len(label_encoder.classes_))\n",
        "#    )\n",
        "#    f.write(report)\n",
        "\n",
        "#print(f\"Classification report saved to: {file_path}\")"
      ],
      "metadata": {
        "colab": {
          "base_uri": "https://localhost:8080/"
        },
        "id": "vMoFqeXorNjs",
        "outputId": "4a869f72-1d36-49d9-89e5-1deecd5490fc"
      },
      "execution_count": 61,
      "outputs": [
        {
          "output_type": "stream",
          "name": "stdout",
          "text": [
            "              precision    recall  f1-score   support\n",
            "\n",
            "        ABBA       0.64      0.75      0.69       509\n",
            "        ACRU       0.61      0.45      0.51      1166\n",
            "        BEPA       0.52      0.62      0.57      1126\n",
            "\n",
            "    accuracy                           0.57      2801\n",
            "   macro avg       0.59      0.61      0.59      2801\n",
            "weighted avg       0.58      0.57      0.57      2801\n",
            "\n"
          ]
        }
      ]
    },
    {
      "cell_type": "code",
      "source": [
        "from sklearn.metrics import f1_score\n",
        "\n",
        "# Assuming y_val and predicted are your true and predicted labels\n",
        "f1_scores = f1_score(y_val, predicted.cpu(), labels=np.arange(len(label_encoder.classes_)), average=None)\n",
        "\n",
        "print(np.mean(f1_scores))"
      ],
      "metadata": {
        "colab": {
          "base_uri": "https://localhost:8080/"
        },
        "id": "k0i7RPY793vT",
        "outputId": "84712731-fc0d-48e0-fc6f-7615c426acc0"
      },
      "execution_count": 46,
      "outputs": [
        {
          "output_type": "stream",
          "name": "stdout",
          "text": [
            "0.19594992017477522\n"
          ]
        }
      ]
    }
  ]
}
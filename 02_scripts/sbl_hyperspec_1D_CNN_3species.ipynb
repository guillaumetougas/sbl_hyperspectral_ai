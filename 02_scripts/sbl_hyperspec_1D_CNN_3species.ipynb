{
  "nbformat": 4,
  "nbformat_minor": 0,
  "metadata": {
    "colab": {
      "provenance": [],
      "machine_shape": "hm",
      "gpuType": "A100",
      "mount_file_id": "https://github.com/guillaumetougas/sbl_hyperspectral_ai/blob/main/02_scripts/sbl_hyperspec_1D_CNN.ipynb",
      "authorship_tag": "ABX9TyPLyS4S7qyl5mESBKujPr2D",
      "include_colab_link": true
    },
    "kernelspec": {
      "name": "python3",
      "display_name": "Python 3"
    },
    "language_info": {
      "name": "python"
    },
    "accelerator": "GPU"
  },
  "cells": [
    {
      "cell_type": "markdown",
      "metadata": {
        "id": "view-in-github",
        "colab_type": "text"
      },
      "source": [
        "<a href=\"https://colab.research.google.com/github/guillaumetougas/sbl_hyperspectral_ai/blob/main/02_scripts/sbl_hyperspec_1D_CNN_3species.ipynb\" target=\"_parent\"><img src=\"https://colab.research.google.com/assets/colab-badge.svg\" alt=\"Open In Colab\"/></a>"
      ]
    },
    {
      "cell_type": "markdown",
      "source": [
        "#1D-CNN model from hyperspectral data\n"
      ],
      "metadata": {
        "id": "853dmOxfikrm"
      }
    },
    {
      "cell_type": "code",
      "source": [
        "import geopandas as gpd\n",
        "import pandas as pd\n",
        "import numpy as np\n",
        "import matplotlib.pyplot as plt\n",
        "import sklearn as sk\n",
        "import torch\n",
        "import torchvision as tv\n",
        "from torchvision.models.detection import fasterrcnn_resnet50_fpn\n",
        "from torchvision.models.detection.faster_rcnn import FastRCNNPredictor\n",
        "import torchaudio as ta\n",
        "!pip install rasterio\n",
        "import rasterio as rio"
      ],
      "metadata": {
        "colab": {
          "base_uri": "https://localhost:8080/"
        },
        "id": "dOvK6peqgfcw",
        "outputId": "3b643ff3-f3a4-4e02-8e1c-f865a20eaaf9"
      },
      "execution_count": 1,
      "outputs": [
        {
          "output_type": "stream",
          "name": "stdout",
          "text": [
            "Collecting rasterio\n",
            "  Downloading rasterio-1.4.3-cp310-cp310-manylinux_2_17_x86_64.manylinux2014_x86_64.whl.metadata (9.1 kB)\n",
            "Collecting affine (from rasterio)\n",
            "  Downloading affine-2.4.0-py3-none-any.whl.metadata (4.0 kB)\n",
            "Requirement already satisfied: attrs in /usr/local/lib/python3.10/dist-packages (from rasterio) (24.2.0)\n",
            "Requirement already satisfied: certifi in /usr/local/lib/python3.10/dist-packages (from rasterio) (2024.8.30)\n",
            "Requirement already satisfied: click>=4.0 in /usr/local/lib/python3.10/dist-packages (from rasterio) (8.1.7)\n",
            "Collecting cligj>=0.5 (from rasterio)\n",
            "  Downloading cligj-0.7.2-py3-none-any.whl.metadata (5.0 kB)\n",
            "Requirement already satisfied: numpy>=1.24 in /usr/local/lib/python3.10/dist-packages (from rasterio) (1.26.4)\n",
            "Collecting click-plugins (from rasterio)\n",
            "  Downloading click_plugins-1.1.1-py2.py3-none-any.whl.metadata (6.4 kB)\n",
            "Requirement already satisfied: pyparsing in /usr/local/lib/python3.10/dist-packages (from rasterio) (3.2.0)\n",
            "Downloading rasterio-1.4.3-cp310-cp310-manylinux_2_17_x86_64.manylinux2014_x86_64.whl (22.2 MB)\n",
            "\u001b[2K   \u001b[90m━━━━━━━━━━━━━━━━━━━━━━━━━━━━━━━━━━━━━━━━\u001b[0m \u001b[32m22.2/22.2 MB\u001b[0m \u001b[31m68.7 MB/s\u001b[0m eta \u001b[36m0:00:00\u001b[0m\n",
            "\u001b[?25hDownloading cligj-0.7.2-py3-none-any.whl (7.1 kB)\n",
            "Downloading affine-2.4.0-py3-none-any.whl (15 kB)\n",
            "Downloading click_plugins-1.1.1-py2.py3-none-any.whl (7.5 kB)\n",
            "Installing collected packages: cligj, click-plugins, affine, rasterio\n",
            "Successfully installed affine-2.4.0 click-plugins-1.1.1 cligj-0.7.2 rasterio-1.4.3\n"
          ]
        }
      ]
    },
    {
      "cell_type": "markdown",
      "source": [
        "###Load preprocessed HS data"
      ],
      "metadata": {
        "id": "I1CEjIvoiwOJ"
      }
    },
    {
      "cell_type": "code",
      "source": [
        "from google.colab import drive\n",
        "drive.mount('/content/drive')"
      ],
      "metadata": {
        "id": "munG550aGaOv",
        "colab": {
          "base_uri": "https://localhost:8080/"
        },
        "outputId": "161926e2-d456-4715-b622-3ea469a351ac"
      },
      "execution_count": 2,
      "outputs": [
        {
          "output_type": "stream",
          "name": "stdout",
          "text": [
            "Mounted at /content/drive\n"
          ]
        }
      ]
    },
    {
      "cell_type": "code",
      "source": [
        "import random\n",
        "# Set seeds for reproducibility\n",
        "random.seed(42)\n",
        "np.random.seed(42)\n",
        "torch.manual_seed(42)\n",
        "torch.cuda.manual_seed(42)\n",
        "torch.cuda.manual_seed_all(42)\n",
        "torch.backends.cudnn.deterministic = True\n",
        "torch.backends.cudnn.benchmark = False"
      ],
      "metadata": {
        "id": "6TD51vbRmdXC"
      },
      "execution_count": 3,
      "outputs": []
    },
    {
      "cell_type": "code",
      "execution_count": 4,
      "metadata": {
        "colab": {
          "base_uri": "https://localhost:8080/"
        },
        "id": "KR7BZn-XgVqy",
        "outputId": "3ea50bc4-4e31-410c-9ea3-01b29541aa73"
      },
      "outputs": [
        {
          "output_type": "stream",
          "name": "stdout",
          "text": [
            "<class 'numpy.ndarray'>\n",
            "(21696, 246)\n",
            "[0.06830659106593368 0.05044518727648489 0.00028019072714709 ...\n",
            " 0.054798048697016474 0.0 0.0]\n",
            "14008\n",
            "(14008,)\n"
          ]
        }
      ],
      "source": [
        "#Load HS data with geopandas\n",
        "smoothed_data=gpd.read_file(\"/content/drive/MyDrive/2024-Tougas-PhD/Data_SBL_HS_AI/sbl_smoothed_spectra.gpkg\")\n",
        "\n",
        "#isolate spectral data and prepare with rasterio\n",
        "spectral_data_labeled = smoothed_data.drop(columns=['geometry']).values\n",
        "print(type(spectral_data_labeled))\n",
        "print(spectral_data_labeled.shape)\n",
        "#print(np.shape(spectral_data_labeled))\n",
        "#print(spectral_data_labeled[:5])\n",
        "\n",
        "#filter out unwanted species (keep 3 most important)\n",
        "# Get column index for 'Label'\n",
        "label_col_idx = smoothed_data.columns.get_loc('Label')  # Find the column index for 'Label'\n",
        "\n",
        "# Get unique labels and their counts using numpy\n",
        "unique_labels, label_counts = np.unique(spectral_data_labeled[:, label_col_idx], return_counts=True)\n",
        "\n",
        "# Sort labels by counts and get the top 3\n",
        "sorted_indices = np.argsort(label_counts)[::-1]  # Sort in descending order\n",
        "top_3_species = unique_labels[sorted_indices[:3]]\n",
        "\n",
        "# Filter spectral_data_labeled based on top_3_species\n",
        "filtered_indices = np.isin(spectral_data_labeled[:, label_col_idx], top_3_species)\n",
        "filtered_data = spectral_data_labeled[filtered_indices]\n",
        "\n",
        "spectral_data = filtered_data[:, 1:243]\n",
        "print(spectral_data[:,241])\n",
        "print(len(spectral_data))\n",
        "\n",
        "labels = filtered_data[:,label_col_idx]\n",
        "print(labels.shape)"
      ]
    },
    {
      "cell_type": "markdown",
      "source": [
        "### Create the 1D-CNN model"
      ],
      "metadata": {
        "id": "Em881k0Hi3oa"
      }
    },
    {
      "cell_type": "code",
      "source": [
        "import torch.nn as nn\n",
        "import torch.optim as optim\n",
        "from sklearn.model_selection import train_test_split\n",
        "from sklearn.preprocessing import LabelEncoder\n",
        "from sklearn.metrics import accuracy_score\n",
        "\n",
        "# Example hyperspectral data (N samples, C spectral bands)\n",
        "# Replace this with your actual data\n",
        "N, C = len(spectral_data), spectral_data.shape[1]\n",
        "# Example: 21696 pixels, 242 bands\n",
        "#X = spectral_data\n",
        "#Y = labels\n",
        "\n",
        "# Normalization (recommended for pretrained generic models like 1D CNN)\n",
        "spectral_data = (spectral_data - np.min(spectral_data)) / (np.max(spectral_data) - np.min(spectral_data))\n",
        "\n",
        "# Ensure spectral_data has a numeric dtype before converting to tensor\n",
        "spectral_data = spectral_data.astype(np.float32)  # or np.float64\n",
        "\n",
        "# Split the data into training and testing sets\n",
        "X_train, X_test, y_train, y_test = train_test_split(spectral_data, labels, test_size=0.2, random_state=42)\n",
        "\n",
        "# 1. Create train/val indices instead of directly splitting\n",
        "dataset_size = len(spectral_data)\n",
        "print(dataset_size)\n",
        "indices = list(range(dataset_size))\n",
        "split = int(np.floor(0.2 * dataset_size))  # 20% for validation\n",
        "print(split)\n",
        "np.random.shuffle(indices)  # Shuffle indices randomly\n",
        "train_indices, val_indices = indices[split:], indices[:split]\n",
        "\n",
        "# 2. Separate data using the indices\n",
        "X_train, X_val = spectral_data[train_indices], spectral_data[val_indices]\n",
        "y_train, y_val = labels[train_indices], labels[val_indices]\n",
        "\n",
        "# 3. Encode labels\n",
        "label_encoder = LabelEncoder()\n",
        "y_train_encoded = label_encoder.fit_transform(y_train)\n",
        "y_val_encoded = label_encoder.transform(y_val)\n",
        "\n",
        "# 4. Create PyTorch tensors\n",
        "X_train, X_val = torch.tensor(X_train, dtype=torch.float32), torch.tensor(X_val, dtype=torch.float32)\n",
        "y_train, y_val = torch.tensor(y_train_encoded, dtype=torch.long), torch.tensor(y_val_encoded, dtype=torch.long)"
      ],
      "metadata": {
        "id": "vj4VdttONilF",
        "colab": {
          "base_uri": "https://localhost:8080/"
        },
        "outputId": "dff864b3-1491-4769-c7a2-4828d762a216"
      },
      "execution_count": 5,
      "outputs": [
        {
          "output_type": "stream",
          "name": "stdout",
          "text": [
            "14008\n",
            "2801\n"
          ]
        }
      ]
    },
    {
      "cell_type": "code",
      "source": [
        "# Set seeds for reproducibility\n",
        "random.seed(42)\n",
        "np.random.seed(42)\n",
        "torch.manual_seed(42)\n",
        "torch.cuda.manual_seed(42)  # If using CUDA\n",
        "torch.cuda.manual_seed_all(42)  # If using multiple GPUs\n",
        "torch.backends.cudnn.deterministic = True\n",
        "torch.backends.cudnn.benchmark = False\n",
        "\n",
        "# Define a 1D CNN for hyperspectral data classification\n",
        "class HyperspectralCNN(nn.Module):\n",
        "    def __init__(self, input_channels, num_classes):\n",
        "        super(HyperspectralCNN, self).__init__()\n",
        "        self.conv1 = nn.Conv1d(input_channels, 64, kernel_size=3, stride=1, padding=1)\n",
        "        self.conv2 = nn.Conv1d(64, 128, kernel_size=3, stride=1, padding=1)\n",
        "        self.pool = nn.MaxPool1d(kernel_size=2, stride=2)\n",
        "        fc1_input_size = 128 * input_channels #output size of conv2 x number of bands\n",
        "        self.fc1 = nn.Linear(fc1_input_size, 256)\n",
        "        self.fc2 = nn.Linear(256, num_classes)\n",
        "        self.relu = nn.ReLU()\n",
        "        self.dropout = nn.Dropout(0.5)\n",
        "\n",
        "    def forward(self, x):\n",
        "        x = self.conv1(x)\n",
        "        x = self.relu(x)\n",
        "        x = self.conv2(x)\n",
        "        x = self.relu(x)\n",
        "        # x = self.pool(x)\n",
        "\n",
        "        # Check if x has 3 dimensions before accessing x.size(2)\n",
        "        #if x.dim() == 3:\n",
        "        fc1_input_size = x.size(1) * x.size(2)\n",
        "        #else:\n",
        "            # If x has only 2 dimensions, calculate fc1_input_size accordingly\n",
        "        #    fc1_input_size = x.size(1)\n",
        "\n",
        "        x = x.view(x.size(0), -1)  # Flatten the tensor\n",
        "\n",
        "        # Adjust fc1 input size to match the actual flattened size\n",
        "        self.fc1 = nn.Linear(fc1_input_size, 256)\n",
        "\n",
        "        x = self.fc1(x)\n",
        "        x = self.relu(x)\n",
        "        x = self.dropout(x)\n",
        "        x = self.fc2(x)\n",
        "        return x"
      ],
      "metadata": {
        "id": "GCB3GD4Fq1YA"
      },
      "execution_count": 6,
      "outputs": []
    },
    {
      "cell_type": "markdown",
      "source": [
        "### Set up focal loss function for class imbalance"
      ],
      "metadata": {
        "id": "cSBFABxv5vc0"
      }
    },
    {
      "cell_type": "code",
      "source": [
        "import torch.nn as nn\n",
        "import torch.nn.functional as F\n",
        "\n",
        "class FocalLoss(nn.Module):\n",
        "    def __init__(self, gamma=2, alpha=None, reduction='mean'):\n",
        "        super(FocalLoss, self).__init__()\n",
        "        self.gamma = gamma\n",
        "        self.alpha = alpha\n",
        "        self.reduction = reduction\n",
        "\n",
        "    def forward(self, inputs, targets):\n",
        "        ce_loss = F.cross_entropy(inputs, targets, reduction='none')\n",
        "        pt = torch.exp(-ce_loss)\n",
        "        focal_loss = (1 - pt) ** self.gamma * ce_loss\n",
        "        if self.alpha is not None:\n",
        "            focal_loss = self.alpha * focal_loss\n",
        "        if self.reduction == 'mean':\n",
        "            return focal_loss.mean()\n",
        "        elif self.reduction == 'sum':\n",
        "            return focal_loss.sum()\n",
        "        else:\n",
        "            return focal_loss"
      ],
      "metadata": {
        "id": "df6syRR55zk2"
      },
      "execution_count": 7,
      "outputs": []
    },
    {
      "cell_type": "markdown",
      "source": [
        "###Model parameters and optimizer and loss function set up\n",
        "\n",
        "\n",
        "\n"
      ],
      "metadata": {
        "id": "dLhry7-bi7Np"
      }
    },
    {
      "source": [
        "# Model parameters\n",
        "input_channels = C\n",
        "num_classes = len(torch.unique(y_train))  # Number of unique labels\n",
        "# Reshape for 1D CNN - Assuming spectral bands are in rows\n",
        "# Transpose to have samples in rows and spectral bands in columns\n",
        "X_train = X_train.T\n",
        "X_val = X_val.T\n",
        "\n",
        "# Reshape X_train before the loop\n",
        "X_train_reshaped = X_train.T[:, :, None]  # add extra dimension to have a 3D tensor\n",
        "\n",
        "# Create train_dataset and train_loader outside the loop\n",
        "train_dataset = torch.utils.data.TensorDataset(X_train_reshaped, y_train)\n",
        "batch_size = 32\n",
        "train_loader = torch.utils.data.DataLoader(train_dataset, batch_size=batch_size, shuffle=True)\n",
        "\n",
        "# Initialize the model, loss function, and optimizer\n",
        "model = HyperspectralCNN(input_channels, num_classes)\n",
        "criterion = FocalLoss(gamma=2)\n",
        "optimizer = optim.Adam(model.parameters(), lr=0.001)\n"
      ],
      "cell_type": "code",
      "metadata": {
        "id": "_RlsfYyaip4R"
      },
      "execution_count": 8,
      "outputs": []
    },
    {
      "cell_type": "markdown",
      "source": [
        "###Train the model"
      ],
      "metadata": {
        "id": "MM02_lhEi9E8"
      }
    },
    {
      "source": [
        "# Set seeds for reproducibility\n",
        "random.seed(42)\n",
        "np.random.seed(42)\n",
        "torch.manual_seed(42)\n",
        "torch.cuda.manual_seed(42)  # If using CUDA\n",
        "torch.cuda.manual_seed_all(42)  # If using multiple GPUs\n",
        "torch.backends.cudnn.deterministic = True\n",
        "torch.backends.cudnn.benchmark = False\n",
        "\n",
        "#Training loop\n",
        "num_epochs = 30  # You can adjust this\n",
        "for epoch in range(num_epochs):\n",
        "  for batch_idx, (data, target) in enumerate(train_loader):\n",
        "    # Forward pass\n",
        "    outputs = model(data)\n",
        "    loss = criterion(outputs, target)\n",
        "\n",
        "    # Backward and optimize\n",
        "    optimizer.zero_grad()\n",
        "    loss.backward()\n",
        "    optimizer.step()\n",
        "\n",
        "    #Print loss every 100 iterations\n",
        "    if (batch_idx + 1) % 100 == 0:\n",
        "      print(f'Epoch [{epoch+1}/{num_epochs}], Iteration [{batch_idx+1}], Loss: {loss.item():.4f}')"
      ],
      "cell_type": "code",
      "metadata": {
        "id": "tI3YiwkAiqad",
        "colab": {
          "base_uri": "https://localhost:8080/"
        },
        "collapsed": true,
        "outputId": "9a5cc206-7a0a-4c08-bd04-8fb67c9ffff8"
      },
      "execution_count": 26,
      "outputs": [
        {
          "output_type": "stream",
          "name": "stdout",
          "text": [
            "Epoch [1/10], Iteration [100], Loss: 0.2970\n",
            "Epoch [1/10], Iteration [200], Loss: 0.3302\n",
            "Epoch [1/10], Iteration [300], Loss: 0.3437\n",
            "Epoch [2/10], Iteration [100], Loss: 0.3578\n",
            "Epoch [2/10], Iteration [200], Loss: 0.3027\n",
            "Epoch [2/10], Iteration [300], Loss: 0.5265\n",
            "Epoch [3/10], Iteration [100], Loss: 0.3575\n",
            "Epoch [3/10], Iteration [200], Loss: 0.2817\n",
            "Epoch [3/10], Iteration [300], Loss: 0.3497\n",
            "Epoch [4/10], Iteration [100], Loss: 0.2859\n",
            "Epoch [4/10], Iteration [200], Loss: 0.3782\n",
            "Epoch [4/10], Iteration [300], Loss: 0.3337\n",
            "Epoch [5/10], Iteration [100], Loss: 0.3867\n",
            "Epoch [5/10], Iteration [200], Loss: 0.4437\n",
            "Epoch [5/10], Iteration [300], Loss: 0.3593\n",
            "Epoch [6/10], Iteration [100], Loss: 0.2382\n",
            "Epoch [6/10], Iteration [200], Loss: 0.3929\n",
            "Epoch [6/10], Iteration [300], Loss: 0.4220\n",
            "Epoch [7/10], Iteration [100], Loss: 0.3041\n",
            "Epoch [7/10], Iteration [200], Loss: 0.2257\n",
            "Epoch [7/10], Iteration [300], Loss: 0.3468\n",
            "Epoch [8/10], Iteration [100], Loss: 0.3565\n",
            "Epoch [8/10], Iteration [200], Loss: 0.3138\n",
            "Epoch [8/10], Iteration [300], Loss: 0.2181\n",
            "Epoch [9/10], Iteration [100], Loss: 0.3978\n",
            "Epoch [9/10], Iteration [200], Loss: 0.3408\n",
            "Epoch [9/10], Iteration [300], Loss: 0.2675\n",
            "Epoch [10/10], Iteration [100], Loss: 0.3151\n",
            "Epoch [10/10], Iteration [200], Loss: 0.2536\n",
            "Epoch [10/10], Iteration [300], Loss: 0.2845\n"
          ]
        }
      ]
    },
    {
      "cell_type": "markdown",
      "source": [
        "###Evaluate the model"
      ],
      "metadata": {
        "id": "jDtYVD8RjAkz"
      }
    },
    {
      "source": [
        "# Evaluate the model on a test dataset\n",
        "model.eval()\n",
        "with torch.no_grad():\n",
        "   # Reshape the validation data to add an extra dimension for sequence length\n",
        "    X_val_reshaped = X_val.T[:, :, None]\n",
        "\n",
        "    # Create a DataLoader for the validation set\n",
        "    val_dataset = torch.utils.data.TensorDataset(X_val_reshaped, y_val)\n",
        "    val_loader = torch.utils.data.DataLoader(val_dataset, batch_size=batch_size, shuffle=False)  # No need to shuffle for evaluation\n",
        "\n",
        "    total_correct = 0\n",
        "    total_samples = 0\n",
        "\n",
        "    for data, target in val_loader:\n",
        "        outputs = model(data)\n",
        "        _, predicted = torch.max(outputs, 1)  # Get predicted class labels\n",
        "        total_correct += (predicted == target).sum().item()\n",
        "        total_samples += target.size(0)\n",
        "\n",
        "    accuracy = total_correct / total_samples\n",
        "    print(f\"Validation Accuracy: {accuracy:.4f}\")"
      ],
      "cell_type": "code",
      "metadata": {
        "id": "mehQgHDQirtC",
        "colab": {
          "base_uri": "https://localhost:8080/"
        },
        "outputId": "010aeaa3-049a-48b8-a1fc-ebf25cc28eb1"
      },
      "execution_count": 27,
      "outputs": [
        {
          "output_type": "stream",
          "name": "stdout",
          "text": [
            "Validation Accuracy: 0.5598\n"
          ]
        }
      ]
    },
    {
      "cell_type": "markdown",
      "source": [
        "###Visualize model performance"
      ],
      "metadata": {
        "id": "J3xlVfWVherU"
      }
    },
    {
      "cell_type": "code",
      "source": [
        "!pip install scikit-learn\n",
        "from sklearn.metrics import confusion_matrix, ConfusionMatrixDisplay, f1_score, precision_score, recall_score, classification_report\n",
        "import numpy as np\n",
        "import matplotlib.pyplot as plt\n",
        "import seaborn as sns"
      ],
      "metadata": {
        "id": "d25DU_DGheAj",
        "outputId": "daa91c93-c977-46e7-c864-f95bf4555ef1",
        "colab": {
          "base_uri": "https://localhost:8080/"
        }
      },
      "execution_count": 11,
      "outputs": [
        {
          "output_type": "stream",
          "name": "stdout",
          "text": [
            "Requirement already satisfied: scikit-learn in /usr/local/lib/python3.10/dist-packages (1.5.2)\n",
            "Requirement already satisfied: numpy>=1.19.5 in /usr/local/lib/python3.10/dist-packages (from scikit-learn) (1.26.4)\n",
            "Requirement already satisfied: scipy>=1.6.0 in /usr/local/lib/python3.10/dist-packages (from scikit-learn) (1.13.1)\n",
            "Requirement already satisfied: joblib>=1.2.0 in /usr/local/lib/python3.10/dist-packages (from scikit-learn) (1.4.2)\n",
            "Requirement already satisfied: threadpoolctl>=3.1.0 in /usr/local/lib/python3.10/dist-packages (from scikit-learn) (3.5.0)\n"
          ]
        }
      ]
    },
    {
      "cell_type": "code",
      "source": [
        "# Get predictions for the entire validation set\n",
        "with torch.no_grad():\n",
        "    X_val_reshaped = X_val.T[:, :, None]  # Reshape validation data\n",
        "    outputs = model(X_val_reshaped)\n",
        "    _, predicted = torch.max(outputs, 1)  # Get predicted class labels\n",
        "\n",
        "# Calculate confusion matrix\n",
        "cm = confusion_matrix(y_val.cpu().numpy(), predicted.cpu().numpy(),labels=np.arange(len(label_encoder.classes_)))\n",
        "\n",
        "# Display confusion matrix\n",
        "disp = ConfusionMatrixDisplay(confusion_matrix=cm, display_labels=label_encoder.classes_)\n",
        "disp.plot(cmap=plt.cm.Blues)\n",
        "plt.title('Confusion Matrix')\n",
        "plt.show()\n",
        "\n",
        "print(np.diagonal(cm)) #Only ABBA, ACRU and THOC present TP"
      ],
      "metadata": {
        "id": "Fxy2M-VAhj1_",
        "outputId": "0a63bdae-b425-40fa-8cd5-497cad8d4405",
        "colab": {
          "base_uri": "https://localhost:8080/",
          "height": 490
        }
      },
      "execution_count": 28,
      "outputs": [
        {
          "output_type": "display_data",
          "data": {
            "text/plain": [
              "<Figure size 640x480 with 2 Axes>"
            ],
            "image/png": "[encoded data removed]"
          },
          "metadata": {}
        },
        {
          "output_type": "stream",
          "name": "stdout",
          "text": [
            "[407 681 545]\n"
          ]
        }
      ]
    },
    {
      "cell_type": "code",
      "source": [
        "# Assuming y_true and y_pred are your true and predicted labels\n",
        "with torch.no_grad():\n",
        "    X_val_reshaped = X_val.T[:, :, None]  # Reshape validation data\n",
        "    outputs = model(X_val_reshaped)\n",
        "    _, predicted = torch.max(outputs, 1)  # Get predicted class labels\n",
        "\n",
        "\n",
        "# Note: y_val is already on the CPU since it was used in the validation loop\n",
        "f1 = f1_score(y_val, predicted.cpu(), average='weighted')  # Use 'weighted' for multi-class\n",
        "print(f\"F1 Score: {f1:.4f}\")"
      ],
      "metadata": {
        "colab": {
          "base_uri": "https://localhost:8080/"
        },
        "id": "JyCUP5fbrMPm",
        "outputId": "2798212b-9de5-4359-f4fb-91a5eee8beee"
      },
      "execution_count": 29,
      "outputs": [
        {
          "output_type": "stream",
          "name": "stdout",
          "text": [
            "F1 Score: 0.5962\n"
          ]
        }
      ]
    },
    {
      "cell_type": "code",
      "source": [
        "from sklearn.metrics import classification_report\n",
        "\n",
        "report = classification_report(\n",
        "        y_val,\n",
        "        predicted.cpu(),\n",
        "        target_names=label_encoder.classes_,\n",
        "        labels=np.arange(len(label_encoder.classes_))  # All classes in the encoder\n",
        "  )\n",
        "print(report)\n",
        "\n",
        "file_path = '/content/drive/MyDrive/2024-Tougas-PhD/Data_SBL_HS_AI/classification_reports/20241212_classification_report_200_epochs.txt'\n",
        "\n",
        "#with open(file_path, 'w') as f:\n",
        "#    report = classification_report(\n",
        "#        y_val,\n",
        "#        predicted.cpu(),\n",
        "#        target_names=label_encoder.classes_,\n",
        "#        labels=np.arange(len(label_encoder.classes_))\n",
        "#    )\n",
        "#    f.write(report)\n",
        "\n",
        "#print(f\"Classification report saved to: {file_path}\")"
      ],
      "metadata": {
        "colab": {
          "base_uri": "https://localhost:8080/"
        },
        "id": "vMoFqeXorNjs",
        "outputId": "e55a807e-144e-4a09-ec52-24cc290d5e6c"
      },
      "execution_count": 30,
      "outputs": [
        {
          "output_type": "stream",
          "name": "stdout",
          "text": [
            "              precision    recall  f1-score   support\n",
            "\n",
            "        ABBA       0.65      0.77      0.71       509\n",
            "        ACRU       0.65      0.49      0.56      1166\n",
            "        BEPA       0.54      0.64      0.59      1126\n",
            "\n",
            "    accuracy                           0.60      2801\n",
            "   macro avg       0.61      0.63      0.62      2801\n",
            "weighted avg       0.61      0.60      0.60      2801\n",
            "\n"
          ]
        }
      ]
    },
    {
      "cell_type": "code",
      "source": [
        "from sklearn.metrics import f1_score\n",
        "\n",
        "# Assuming y_val and predicted are your true and predicted labels\n",
        "f1_scores = f1_score(y_val, predicted.cpu(), labels=np.arange(len(label_encoder.classes_)), average=None)\n",
        "\n",
        "print(np.mean(f1_scores))"
      ],
      "metadata": {
        "colab": {
          "base_uri": "https://localhost:8080/"
        },
        "id": "k0i7RPY793vT",
        "outputId": "d7dcd2dd-8bda-4970-ed38-d577b2a021ee"
      },
      "execution_count": 15,
      "outputs": [
        {
          "output_type": "stream",
          "name": "stdout",
          "text": [
            "0.37742273173038915\n"
          ]
        }
      ]
    }
  ]
}